{
  "cells": [
    {
      "cell_type": "markdown",
      "metadata": {
        "id": "4DviGOAO4_8H"
      },
      "source": [
        "# Detect object in images"
      ]
    },
    {
      "cell_type": "markdown",
      "metadata": {},
      "source": [
        "First of all be sure to have already done the following steps:\n",
        "1. `git clone 'https://github.com/WongKinYiu/yolov9.git'`\n",
        "2. `sed -i 's/opt.min_items/min_items/' yolov9/val.py`\n",
        "3. `sed -i 's/opt.min_items/min_items/' yolov9/val_dual.py`\n",
        "4. `pip install -r yolov9/requirements.txt`"
      ]
    },
    {
      "cell_type": "code",
      "execution_count": 5,
      "metadata": {
        "id": "lE2_RB6M6vaA"
      },
      "outputs": [],
      "source": [
        "import sys\n",
        "import os\n",
        "from google.colab import drive  # optional: for running in google colab\n",
        "import torch\n",
        "\n",
        "sys.path.append('./yolov9')\n",
        "\n",
        "# if using BranchyYOLO\n",
        "from detect import main as detect\n",
        "# if using ablated YOLO\n",
        "# from detect_dual import main as detect"
      ]
    },
    {
      "cell_type": "code",
      "execution_count": 7,
      "metadata": {
        "id": "z9gc6zTq5N1H"
      },
      "outputs": [],
      "source": [
        "base_path = ''"
      ]
    },
    {
      "cell_type": "code",
      "execution_count": 12,
      "metadata": {
        "id": "EshWs4035DcJ"
      },
      "outputs": [],
      "source": [
        "class Opt:\n",
        "    def __init__(self, *args, **kwargs):\n",
        "        self.project = base_path +'results' # save results here\n",
        "        self.weights = base_path + 'weights/best.pt' # path to weights\n",
        "        self.source = base_path + 'real_images/images/' # path to images\n",
        "\n",
        "        for key, value in kwargs.items():\n",
        "            setattr(self, key, value)"
      ]
    },
    {
      "cell_type": "code",
      "execution_count": null,
      "metadata": {
        "colab": {
          "base_uri": "https://localhost:8080/"
        },
        "id": "ADe49YPK49p-",
        "outputId": "cccfa339-4ce6-4081-cb84-17d21bfa99b3"
      },
      "outputs": [],
      "source": [
        "test_options = Opt()\n",
        "\n",
        "try:\n",
        "    detect(test_options)\n",
        "except Exception as error:\n",
        "    torch.cuda.empty_cache()\n",
        "    print(\"An error occurred:\", type(error).__name__, \"-\", error)"
      ]
    }
  ],
  "metadata": {
    "accelerator": "GPU",
    "colab": {
      "gpuType": "T4",
      "provenance": []
    },
    "kernelspec": {
      "display_name": "Python 3",
      "name": "python3"
    },
    "language_info": {
      "name": "python"
    }
  },
  "nbformat": 4,
  "nbformat_minor": 0
}
